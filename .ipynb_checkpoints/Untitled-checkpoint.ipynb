{
 "cells": [
  {
   "cell_type": "code",
   "execution_count": 7,
   "metadata": {},
   "outputs": [],
   "source": [
    "# -*- coding: utf-8 -*-\n",
    "\"\"\"\n",
    "Created on Tue Oct 19 14:17:44 2021\n",
    "\n",
    "@author: android-2d\n",
    "\"\"\"\n",
    "\n",
    "# CIF\n",
    "from Bio.PDB.MMCIFParser import MMCIFParser\n",
    "from Bio.PDB.PDBParser import PDBParser\n",
    "from Bio.PDB.MMCIF2Dict import MMCIF2Dict\n",
    "\n",
    "\n",
    "def LeerPDB():\n",
    "    parser = PDBParser(PERMISSIVE=1)\n",
    "    structure_id = 'miPDB'  \n",
    "    filename = '1UBQ_aligned.pdb'\n",
    "    structure = parser.get_structure(structure_id, filename)\n",
    "    return structure\n",
    "\n",
    "def LeerCIF():\n",
    "    mmcif_dict = MMCIF2Dict(\"1mbo.cif\")\n",
    "    for value,key in mmcif_dict.items():\n",
    "        print(value,key)\n",
    "    return mmcif_dict\n",
    "\n",
    "structure = LeerPDB()\n",
    "#mmcif_dict = LeerCIF()\n",
    "    \n",
    "# PDB\n",
    "resolution = structure.header[\"resolution\"]\n",
    "#keywords = structure.header[\"keywords\"]\n"
   ]
  },
  {
   "cell_type": "code",
   "execution_count": 12,
   "metadata": {},
   "outputs": [],
   "source": [
    "def LeerPDBb():\n",
    "    parser = PDBParser(PERMISSIVE=1)\n",
    "    structure_id = 'miPDB'  \n",
    "    filename = '1mbo.pdb'\n",
    "    structure = parser.get_structure(structure_id, filename)\n",
    "    return structure"
   ]
  },
  {
   "cell_type": "code",
   "execution_count": 13,
   "metadata": {},
   "outputs": [
    {
     "data": {
      "application/vnd.jupyter.widget-view+json": {
       "model_id": "6cfcb68444974fdfac5e3108566f62cf",
       "version_major": 2,
       "version_minor": 0
      },
      "text/plain": [
       "NGLWidget()"
      ]
     },
     "metadata": {},
     "output_type": "display_data"
    }
   ],
   "source": [
    "import nglview as nv\n",
    "structure = LeerPDB()\n",
    "structureb = LeerPDBb()\n",
    "\n",
    "view = nv.show_biopython(structure)\n",
    "viewb = nv.show_biopython(structureb)\n",
    "view\n",
    "view2 = nv.show_biopython(structure)\n",
    "view2.clear_representations()\n",
    "view2.add_representation('cartoon', selection='protein', color='blue')\n",
    "view2.add_representation('licorice', selection='not hydrogen')\n",
    "view2\n"
   ]
  },
  {
   "cell_type": "code",
   "execution_count": 17,
   "metadata": {},
   "outputs": [
    {
     "data": {
      "application/vnd.jupyter.widget-view+json": {
       "model_id": "cf2d4cbaf2254ec4a2727fb5d32445d8",
       "version_major": 2,
       "version_minor": 0
      },
      "text/plain": [
       "NGLWidget()"
      ]
     },
     "metadata": {},
     "output_type": "display_data"
    }
   ],
   "source": [
    "viewb\n",
    "view2b = nv.show_biopython(structureb)\n",
    "#view2b.clear_representations()\n",
    "#view2b.add_representation('cartoon', selection='protein', color='blue')\n",
    "#view2b.add_representation('licorice', selection='not hydrogen')\n",
    "#view2b\n",
    "viewb"
   ]
  },
  {
   "cell_type": "code",
   "execution_count": null,
   "metadata": {},
   "outputs": [],
   "source": []
  }
 ],
 "metadata": {
  "kernelspec": {
   "display_name": "Python 3",
   "language": "python",
   "name": "python3"
  },
  "language_info": {
   "codemirror_mode": {
    "name": "ipython",
    "version": 3
   },
   "file_extension": ".py",
   "mimetype": "text/x-python",
   "name": "python",
   "nbconvert_exporter": "python",
   "pygments_lexer": "ipython3",
   "version": "3.8.3"
  }
 },
 "nbformat": 4,
 "nbformat_minor": 4
}
