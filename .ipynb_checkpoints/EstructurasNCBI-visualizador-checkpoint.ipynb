{
 "cells": [
  {
   "cell_type": "code",
   "execution_count": 7,
   "metadata": {},
   "outputs": [],
   "source": [
    "# -*- coding: utf-8 -*-\n",
    "\"\"\"\n",
    "Created on Tue Oct 19 14:17:44 2021\n",
    "\n",
    "@author: android-2d\n",
    "\"\"\"\n",
    "\n",
    "from Bio.PDB.MMCIFParser import MMCIFParser\n",
    "from Bio.PDB.PDBParser import PDBParser\n",
    "from Bio.PDB.MMCIF2Dict import MMCIF2Dict\n",
    "import warnings\n",
    "warnings.filterwarnings(\"ignore\")\n",
    "\n",
    "def LeerPDB(structure_id,filename):\n",
    "    parser = PDBParser(PERMISSIVE=1)\n",
    "    structure = parser.get_structure(structure_id, filename)\n",
    "    return structure\n",
    "\n",
    "def LeerCIF(filename):\n",
    "    mmcif_dict = MMCIF2Dict(filename)\n",
    "    for value,key in mmcif_dict.items():\n",
    "        print(value,key)\n",
    "    return mmcif_dict\n",
    "\n",
    "def Graficar(structure):\n",
    "    import nglview as nv\n",
    "    view = nv.show_biopython(structure)\n",
    "    view.render_image()\n",
    "    view._display_image()\n",
    "    view\n",
    "    return view \n",
    "    #view2.clear_representations()\n",
    "    #view2.add_representation('cartoon', selection='protein', color='blue')\n",
    "    #view2.add_representation('licorice', selection='not hydrogen')\n",
    "\n",
    "def SelecionePDB(lista_pdb):\n",
    "    ingreso = int(input(\"Ingrese el numero del PDB a graficar: \"))\n",
    "    if ingreso!=0:\n",
    "        salida = lista_pdb[ingreso-1]\n",
    "    else:\n",
    "        salida=0\n",
    "    return salida \n",
    "\n",
    "def ListarPDB():\n",
    "    import os\n",
    "    import time\n",
    "    actual_dir = os.getcwd()\n",
    "    PDB_dir= actual_dir+\"\\\\BD\\\\PDB\\\\\"\n",
    "    contenido = os.listdir(PDB_dir)\n",
    "    c=1\n",
    "    lista_pdb=[]\n",
    "    print(\"Se han encotrado los siguientes archivos PDB:\")\n",
    "    for archivo in contenido:\n",
    "        if archivo.endswith('.pdb'):\n",
    "            print(c,\":\",archivo)\n",
    "            c+=1\n",
    "            lista_pdb.append(PDB_dir+archivo)\n",
    "    \n",
    "    time.sleep(1)\n",
    "    pdb_elegido=SelecionePDB(lista_pdb)\n",
    "    return pdb_elegido\n"
   ]
  },
  {
   "cell_type": "code",
   "execution_count": 8,
   "metadata": {},
   "outputs": [
    {
     "name": "stdout",
     "output_type": "stream",
     "text": [
      "Se han encotrado los siguientes archivos PDB:\n",
      "1 : 1mbo.pdb\n",
      "2 : 4xr8-16-E6.pdb\n",
      "3 : 6sjv-18-E6.pdb\n",
      "4 : p38A.pdb\n",
      "5 : p38B.pdb\n",
      "Ingrese el numero del PDB a graficar: 2\n"
     ]
    },
    {
     "data": {
      "application/vnd.jupyter.widget-view+json": {
       "model_id": "8420b129eb6140e685465eb6706c0fc8",
       "version_major": 2,
       "version_minor": 0
      },
      "text/plain": [
       "NGLWidget()"
      ]
     },
     "metadata": {},
     "output_type": "display_data"
    }
   ],
   "source": [
    "def main():\n",
    "        structure_id = 'miPDB'  \n",
    "        filename = ListarPDB()\n",
    "        structure = LeerPDB(structure_id,filename)\n",
    "        view=Graficar(structure)\n",
    "        return view\n",
    "\n",
    "main()"
   ]
  },
  {
   "cell_type": "code",
   "execution_count": null,
   "metadata": {},
   "outputs": [],
   "source": []
  }
 ],
 "metadata": {
  "kernelspec": {
   "display_name": "Python 3",
   "language": "python",
   "name": "python3"
  },
  "language_info": {
   "codemirror_mode": {
    "name": "ipython",
    "version": 3
   },
   "file_extension": ".py",
   "mimetype": "text/x-python",
   "name": "python",
   "nbconvert_exporter": "python",
   "pygments_lexer": "ipython3",
   "version": "3.8.3"
  }
 },
 "nbformat": 4,
 "nbformat_minor": 4
}
